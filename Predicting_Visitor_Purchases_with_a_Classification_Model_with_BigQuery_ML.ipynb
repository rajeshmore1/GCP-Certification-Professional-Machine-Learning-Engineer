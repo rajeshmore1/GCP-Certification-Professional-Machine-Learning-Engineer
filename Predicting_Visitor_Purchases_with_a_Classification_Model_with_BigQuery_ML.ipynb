{
  "nbformat": 4,
  "nbformat_minor": 0,
  "metadata": {
    "colab": {
      "provenance": [],
      "authorship_tag": "ABX9TyMT9rByHNCB5KZZd7uZCLAn",
      "include_colab_link": true
    },
    "kernelspec": {
      "name": "python3",
      "display_name": "Python 3"
    },
    "language_info": {
      "name": "python"
    }
  },
  "cells": [
    {
      "cell_type": "markdown",
      "metadata": {
        "id": "view-in-github",
        "colab_type": "text"
      },
      "source": [
        "<a href=\"https://colab.research.google.com/github/rajeshmore1/GCP-Certification-Professional-Machine-Learning-Engineer/blob/main/Predicting_Visitor_Purchases_with_a_Classification_Model_with_BigQuery_ML.ipynb\" target=\"_parent\"><img src=\"https://colab.research.google.com/assets/colab-badge.svg\" alt=\"Open In Colab\"/></a>"
      ]
    },
    {
      "cell_type": "markdown",
      "source": [
        "# Overview\n",
        "BigQuery ML (BigQuery machine learning) is a feature in BigQuery where data analysts can create, train, evaluate, and predict with machine learning models with minimal coding.\n",
        "\n",
        "The Google Analytics Sample Ecommerce dataset that has millions of Google Analytics records for the Google Merchandise Store loaded into BigQuery. In this lab, you will use this data to run some typical queries that businesses would want to know about their customers' purchasing habits."
      ],
      "metadata": {
        "id": "8zr3mSFrsW7u"
      }
    },
    {
      "cell_type": "code",
      "source": [
        "CREATE OR REPLACE MODEL `ecommerce.classification_model`\n",
        "OPTIONS\n",
        "(\n",
        "model_type='logistic_reg',\n",
        "labels = ['will_buy_on_return_visit']\n",
        ")\n",
        "AS\n",
        "#standardSQL\n",
        "SELECT\n",
        "  * EXCEPT(fullVisitorId)\n",
        "FROM\n",
        "  # features\n",
        "  (SELECT\n",
        "    fullVisitorId,\n",
        "    IFNULL(totals.bounces, 0) AS bounces,\n",
        "    IFNULL(totals.timeOnSite, 0) AS time_on_site\n",
        "  FROM\n",
        "    `data-to-insights.ecommerce.web_analytics`\n",
        "  WHERE\n",
        "    totals.newVisits = 1\n",
        "    AND date BETWEEN '20160801' AND '20170430') # train on first 9 months\n",
        "  JOIN\n",
        "  (SELECT\n",
        "    fullvisitorid,\n",
        "    IF(COUNTIF(totals.transactions > 0 AND totals.newVisits IS NULL) > 0, 1, 0) AS will_buy_on_return_visit\n",
        "  FROM\n",
        "      `data-to-insights.ecommerce.web_analytics`\n",
        "  GROUP BY fullvisitorid)\n",
        "  USING (fullVisitorId)\n",
        ";"
      ],
      "metadata": {
        "id": "u6QdYlQltF9L"
      },
      "execution_count": null,
      "outputs": []
    },
    {
      "cell_type": "markdown",
      "source": [
        "# Evaluation model"
      ],
      "metadata": {
        "id": "l1FBG6IOtX3N"
      }
    },
    {
      "cell_type": "code",
      "source": [
        "SELECT\n",
        "  roc_auc,\n",
        "  CASE\n",
        "    WHEN roc_auc > .9 THEN 'good'\n",
        "    WHEN roc_auc > .8 THEN 'fair'\n",
        "    WHEN roc_auc > .7 THEN 'not great'\n",
        "  ELSE 'poor' END AS model_quality\n",
        "FROM\n",
        "  ML.EVALUATE(MODEL ecommerce.classification_model,  (\n",
        "SELECT\n",
        "  * EXCEPT(fullVisitorId)\n",
        "FROM\n",
        "  # features\n",
        "  (SELECT\n",
        "    fullVisitorId,\n",
        "    IFNULL(totals.bounces, 0) AS bounces,\n",
        "    IFNULL(totals.timeOnSite, 0) AS time_on_site\n",
        "  FROM\n",
        "    `data-to-insights.ecommerce.web_analytics`\n",
        "  WHERE\n",
        "    totals.newVisits = 1\n",
        "    AND date BETWEEN '20170501' AND '20170630') # eval on 2 months\n",
        "  JOIN\n",
        "  (SELECT\n",
        "    fullvisitorid,\n",
        "    IF(COUNTIF(totals.transactions > 0 AND totals.newVisits IS NULL) > 0, 1, 0) AS will_buy_on_return_visit\n",
        "  FROM\n",
        "      `data-to-insights.ecommerce.web_analytics`\n",
        "  GROUP BY fullvisitorid)\n",
        "  USING (fullVisitorId)\n",
        "));"
      ],
      "metadata": {
        "id": "CMI2IpxgtaaI"
      },
      "execution_count": null,
      "outputs": []
    },
    {
      "cell_type": "markdown",
      "source": [
        "# Prediction:\n",
        "\n",
        "Run the prediction query below which uses the improved classification model to predict the probability that a first-time visitor to the Google Merchandise Store will make a purchase in a later visit:"
      ],
      "metadata": {
        "id": "jayLYDk8tkOZ"
      }
    },
    {
      "cell_type": "code",
      "source": [
        "SELECT\n",
        "*\n",
        "FROM\n",
        "  ml.PREDICT(MODEL `ecommerce.classification_model_2`,\n",
        "   (\n",
        "WITH all_visitor_stats AS (\n",
        "SELECT\n",
        "  fullvisitorid,\n",
        "  IF(COUNTIF(totals.transactions > 0 AND totals.newVisits IS NULL) > 0, 1, 0) AS will_buy_on_return_visit\n",
        "  FROM `data-to-insights.ecommerce.web_analytics`\n",
        "  GROUP BY fullvisitorid\n",
        ")\n",
        "  SELECT\n",
        "      CONCAT(fullvisitorid, '-',CAST(visitId AS STRING)) AS unique_session_id,\n",
        "      # labels\n",
        "      will_buy_on_return_visit,\n",
        "      MAX(CAST(h.eCommerceAction.action_type AS INT64)) AS latest_ecommerce_progress,\n",
        "      # behavior on the site\n",
        "      IFNULL(totals.bounces, 0) AS bounces,\n",
        "      IFNULL(totals.timeOnSite, 0) AS time_on_site,\n",
        "      totals.pageviews,\n",
        "      # where the visitor came from\n",
        "      trafficSource.source,\n",
        "      trafficSource.medium,\n",
        "      channelGrouping,\n",
        "      # mobile or desktop\n",
        "      device.deviceCategory,\n",
        "      # geographic\n",
        "      IFNULL(geoNetwork.country, \"\") AS country\n",
        "  FROM `data-to-insights.ecommerce.web_analytics`,\n",
        "     UNNEST(hits) AS h\n",
        "    JOIN all_visitor_stats USING(fullvisitorid)\n",
        "  WHERE\n",
        "    # only predict for new visits\n",
        "    totals.newVisits = 1\n",
        "    AND date BETWEEN '20170701' AND '20170801' # test 1 month\n",
        "  GROUP BY\n",
        "  unique_session_id,\n",
        "  will_buy_on_return_visit,\n",
        "  bounces,\n",
        "  time_on_site,\n",
        "  totals.pageviews,\n",
        "  trafficSource.source,\n",
        "  trafficSource.medium,\n",
        "  channelGrouping,\n",
        "  device.deviceCategory,\n",
        "  country\n",
        ")\n",
        ")\n",
        "ORDER BY\n",
        "  predicted_will_buy_on_return_visit DESC;"
      ],
      "metadata": {
        "id": "uj5yCvRLxFvs"
      },
      "execution_count": null,
      "outputs": []
    },
    {
      "cell_type": "markdown",
      "source": [
        "https://partner.cloudskillsboost.google/course_sessions/1291276/labs/200031\n"
      ],
      "metadata": {
        "id": "UBCmclaWxOcX"
      }
    },
    {
      "cell_type": "code",
      "source": [],
      "metadata": {
        "id": "6i3IRSb5xPLv"
      },
      "execution_count": null,
      "outputs": []
    }
  ]
}